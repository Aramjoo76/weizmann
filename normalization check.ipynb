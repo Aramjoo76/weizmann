{
 "cells": [
  {
   "cell_type": "code",
   "execution_count": 1,
   "id": "9eef976b-927c-4771-baab-a64035c18d4a",
   "metadata": {},
   "outputs": [],
   "source": [
    "import os\n",
    "import pandas as pd\n",
    "import scanpy as sc\n",
    "import numpy as np\n",
    "import anndata\n",
    "import gc"
   ]
  },
  {
   "cell_type": "markdown",
   "id": "8d31798e-9e8d-4c84-9827-92a4886a7951",
   "metadata": {},
   "source": [
    "## Checking normalization"
   ]
  },
  {
   "cell_type": "markdown",
   "id": "a9d18d1a-8f25-4f5b-828b-98b13defb362",
   "metadata": {
    "jp-MarkdownHeadingCollapsed": true
   },
   "source": [
    "### 1.Lung"
   ]
  },
  {
   "cell_type": "code",
   "execution_count": 2,
   "id": "abf27a42-7833-4239-89bc-de27b237525a",
   "metadata": {},
   "outputs": [
    {
     "name": "stderr",
     "output_type": "stream",
     "text": [
      "/home/ubuntu/.local/lib/python3.10/site-packages/anndata/_core/anndata.py:1756: UserWarning: Observation names are not unique. To make them unique, call `.obs_names_make_unique`.\n",
      "  utils.warn_names_duplicates(\"obs\")\n"
     ]
    }
   ],
   "source": [
    "adata = sc.read('/home/ubuntu/Downloads/Data_Lung/Lung_Combined.h5ad')"
   ]
  },
  {
   "cell_type": "code",
   "execution_count": 3,
   "id": "29f217e8-8f22-42a1-95e8-a165fbf2812d",
   "metadata": {},
   "outputs": [
    {
     "name": "stdout",
     "output_type": "stream",
     "text": [
      "Study: Bischoff2021_Lung, Max value in adata.X: 59232.0\n",
      "Study: Chan2021_Lung, Max value in adata.X: 17013.0\n",
      "Study: Guo2018_Lung, Max value in adata.X: 480978.1875\n",
      "Study: Ireland2020_Lung, Max value in adata.X: 33708.0\n",
      "Study: Kim2020_Lung, Max value in adata.X: 26141.0\n",
      "Study: Laughney2020_Lung, Max value in adata.X: 29818.0\n",
      "Study: Maynard2020_Lung, Max value in adata.X: 10670564.0\n",
      "Study: Qian2020_Lung, Max value in adata.X: 32168.0\n",
      "Study: Song2019_Lung, Max value in adata.X: 11726.0\n",
      "Study: Xing2021_Lung, Max value in adata.X: 32168.0\n"
     ]
    }
   ],
   "source": [
    "# Loop through each unique study\n",
    "for study in adata.obs['study'].unique():\n",
    "    # Create a mask for the current study\n",
    "    mask = adata.obs['study'] == study\n",
    "    # Subset the AnnData object\n",
    "    adata_subset = adata[mask]\n",
    "    \n",
    "    # Check if adata.X is sparse\n",
    "    if not isinstance(adata_subset.X, np.ndarray):\n",
    "        max_val = adata_subset.X.max()\n",
    "    else:\n",
    "        max_val = np.max(adata_subset.X)\n",
    "    \n",
    "    print(f\"Study: {study}, Max value in adata.X: {max_val}\")"
   ]
  },
  {
   "cell_type": "code",
   "execution_count": null,
   "id": "f06e6397-ef6e-424a-a6e6-c5844d3b6b33",
   "metadata": {},
   "outputs": [],
   "source": [
    "adata.write(\"Lung_Combined.h5ad.gz\")"
   ]
  },
  {
   "cell_type": "markdown",
   "id": "0d62eccb-cfb0-4f55-97e6-ea450dd70ae9",
   "metadata": {
    "jp-MarkdownHeadingCollapsed": true
   },
   "source": [
    "### 2.Brain"
   ]
  },
  {
   "cell_type": "code",
   "execution_count": 14,
   "id": "8865cb29-8591-4733-8773-7406929cb6fd",
   "metadata": {},
   "outputs": [
    {
     "name": "stderr",
     "output_type": "stream",
     "text": [
      "/home/ubuntu/.local/lib/python3.10/site-packages/anndata/_core/anndata.py:1756: UserWarning: Observation names are not unique. To make them unique, call `.obs_names_make_unique`.\n",
      "  utils.warn_names_duplicates(\"obs\")\n"
     ]
    }
   ],
   "source": [
    "adata = sc.read('./Downloads/Data_Brain/Brain_Combined.h5ad')"
   ]
  },
  {
   "cell_type": "code",
   "execution_count": 16,
   "id": "12247370-3ec8-402e-9903-b81256bdee32",
   "metadata": {},
   "outputs": [
    {
     "name": "stdout",
     "output_type": "stream",
     "text": [
      "Study: Choudhury2022_Brain, Max value in adata.X: 19209.0\n",
      "Study: Data_Filbin2018_Brain, Max value in adata.X: 363663.3125\n",
      "Study: Gojo2020_Brain, Max value in adata.X: 590358.3125\n",
      "Study: Hovestadt2019_Brain, Max value in adata.X: 428487.75\n",
      "Study: Neftel2019_Brain, Max value in adata.X: 216738.6875\n",
      "Study: Tirosh2016_Brain, Max value in adata.X: 481407.1875\n",
      "Study: Venteicher2017_Brain, Max value in adata.X: 482075.03125\n",
      "Study: Wang2019_Brain, Max value in adata.X: 6319.0\n",
      "Study: Yuan2018_Brain, Max value in adata.X: 1034.0\n"
     ]
    }
   ],
   "source": [
    "# Loop through each unique study\n",
    "for study in adata.obs['study'].unique():\n",
    "    # Create a mask for the current study\n",
    "    mask = adata.obs['study'] == study\n",
    "    # Subset the AnnData object\n",
    "    adata_subset = adata[mask]\n",
    "    \n",
    "    # Check if adata.X is sparse\n",
    "    if not isinstance(adata_subset.X, np.ndarray):\n",
    "        max_val = adata_subset.X.max()\n",
    "    else:\n",
    "        max_val = np.max(adata_subset.X)\n",
    "    \n",
    "    print(f\"Study: {study}, Max value in adata.X: {max_val}\")"
   ]
  },
  {
   "cell_type": "code",
   "execution_count": 9,
   "id": "f4aa163d-cca4-4bde-935d-3217d5d7fe63",
   "metadata": {},
   "outputs": [
    {
     "name": "stderr",
     "output_type": "stream",
     "text": [
      "/home/ubuntu/.local/lib/python3.10/site-packages/anndata/_core/anndata.py:1756: UserWarning: Observation names are not unique. To make them unique, call `.obs_names_make_unique`.\n",
      "  utils.warn_names_duplicates(\"obs\")\n"
     ]
    }
   ],
   "source": [
    "# List of studies to omit\n",
    "studies_to_omit = ['Couturier2020_Brain', 'Data_Darmanis2017_Brain']\n",
    "\n",
    "# Keep only cells not in those studies\n",
    "adata = adata[~adata.obs['study'].isin(studies_to_omit)].copy()\n"
   ]
  },
  {
   "cell_type": "code",
   "execution_count": 15,
   "id": "b16bfc9e-4088-4af0-af68-4a616207c6a2",
   "metadata": {},
   "outputs": [
    {
     "data": {
      "text/plain": [
       "study\n",
       "Choudhury2022_Brain      58843\n",
       "Neftel2019_Brain         24131\n",
       "Yuan2018_Brain           23793\n",
       "Wang2019_Brain           16317\n",
       "Hovestadt2019_Brain       8691\n",
       "Gojo2020_Brain            6739\n",
       "Venteicher2017_Brain      6341\n",
       "Tirosh2016_Brain          4347\n",
       "Data_Filbin2018_Brain     2587\n",
       "Name: count, dtype: int64"
      ]
     },
     "execution_count": 15,
     "metadata": {},
     "output_type": "execute_result"
    }
   ],
   "source": [
    "adata.obs['study'].value_counts()"
   ]
  },
  {
   "cell_type": "code",
   "execution_count": 13,
   "id": "07caddb9-36f0-4a27-bdf9-8e71968eaa3e",
   "metadata": {},
   "outputs": [],
   "source": [
    "output_path = \"/home/ubuntu/Downloads/Data_Brain/Brain_Combined.h5ad\"\n",
    "adata.write(output_path)"
   ]
  },
  {
   "cell_type": "code",
   "execution_count": 12,
   "id": "587ef55b-fa8c-481b-ba46-2a33ac803362",
   "metadata": {},
   "outputs": [],
   "source": [
    "adata.write(\"Brain_Combined.h5ad.gz\")"
   ]
  },
  {
   "cell_type": "markdown",
   "id": "7f7f954c-7b78-43f0-829a-e96de278d0e0",
   "metadata": {},
   "source": [
    "### 3.Breast"
   ]
  },
  {
   "cell_type": "code",
   "execution_count": 2,
   "id": "dcc94b8c-d16f-4c64-87d7-9be8efa1cfd4",
   "metadata": {},
   "outputs": [
    {
     "name": "stderr",
     "output_type": "stream",
     "text": [
      "/home/ubuntu/.local/lib/python3.10/site-packages/anndata/_core/anndata.py:1756: UserWarning: Observation names are not unique. To make them unique, call `.obs_names_make_unique`.\n",
      "  utils.warn_names_duplicates(\"obs\")\n"
     ]
    }
   ],
   "source": [
    "adata = sc.read('./Downloads/Data_Breast/Breast_Combined.h5ad')"
   ]
  },
  {
   "cell_type": "code",
   "execution_count": 3,
   "id": "0a1f9943-5849-4bd7-aab8-164662ad8544",
   "metadata": {},
   "outputs": [
    {
     "name": "stdout",
     "output_type": "stream",
     "text": [
      "Study: Azizi2018_Breast, Max value in adata.X: 8020.0\n",
      "Study: Bassez2021_Breast, Max value in adata.X: 42853.0\n",
      "Study: Chung2017_Breast, Max value in adata.X: 559906.625\n",
      "Study: Gao2021_Breast, Max value in adata.X: 49845.0\n",
      "Study: Griffiths2021_Breast, Max value in adata.X: 31880.0\n",
      "Study: Gulati2020_Breast, Max value in adata.X: 253094.140625\n",
      "Study: Karaayvas2018_Breast, Max value in adata.X: 1000000.0\n",
      "Study: Pal2021_Breast, Max value in adata.X: 23329.0\n",
      "Study: Qian2020_Breast, Max value in adata.X: 42853.0\n",
      "Study: Savas2018_Breast, Max value in adata.X: 1557.0\n",
      "Study: Wu2021_Breast, Max value in adata.X: 29831.0\n"
     ]
    }
   ],
   "source": [
    "# Loop through each unique study\n",
    "for study in adata.obs['study'].unique():\n",
    "    # Create a mask for the current study\n",
    "    mask = adata.obs['study'] == study\n",
    "    # Subset the AnnData object\n",
    "    adata_subset = adata[mask]\n",
    "    \n",
    "    # Check if adata.X is sparse\n",
    "    if not isinstance(adata_subset.X, np.ndarray):\n",
    "        max_val = adata_subset.X.max()\n",
    "    else:\n",
    "        max_val = np.max(adata_subset.X)\n",
    "    \n",
    "    print(f\"Study: {study}, Max value in adata.X: {max_val}\")"
   ]
  },
  {
   "cell_type": "code",
   "execution_count": 4,
   "id": "27c2fcad-5109-4a83-af38-8ba16eb14bd2",
   "metadata": {},
   "outputs": [
    {
     "data": {
      "text/plain": [
       "study\n",
       "Pal2021_Breast          305224\n",
       "Bassez2021_Breast       226635\n",
       "Griffiths2021_Breast    111372\n",
       "Wu2021_Breast           100064\n",
       "Azizi2018_Breast         75029\n",
       "Gao2021_Breast           29992\n",
       "Qian2020_Breast          16537\n",
       "Savas2018_Breast          6311\n",
       "Gulati2020_Breast         1902\n",
       "Karaayvas2018_Breast      1534\n",
       "Chung2017_Breast           515\n",
       "Name: count, dtype: int64"
      ]
     },
     "execution_count": 4,
     "metadata": {},
     "output_type": "execute_result"
    }
   ],
   "source": [
    "adata.obs['study'].value_counts()"
   ]
  },
  {
   "cell_type": "code",
   "execution_count": 19,
   "id": "52e13b5f-f268-476b-bb00-f5e399f221c7",
   "metadata": {},
   "outputs": [
    {
     "name": "stderr",
     "output_type": "stream",
     "text": [
      "/home/ubuntu/.local/lib/python3.10/site-packages/anndata/_core/anndata.py:1756: UserWarning: Observation names are not unique. To make them unique, call `.obs_names_make_unique`.\n",
      "  utils.warn_names_duplicates(\"obs\")\n"
     ]
    }
   ],
   "source": [
    "# List of studies to omit\n",
    "studies_to_omit = ['Kim2018_Breast']\n",
    "\n",
    "# Keep only cells not in those studies\n",
    "adata = adata[~adata.obs['study'].isin(studies_to_omit)].copy()"
   ]
  },
  {
   "cell_type": "code",
   "execution_count": 21,
   "id": "d0331ba8-05a3-4f11-bc37-c8367e47cd12",
   "metadata": {},
   "outputs": [],
   "source": [
    "output_path = \"/home/ubuntu/Downloads/Data_Breast/Breast_Combined.h5ad\"\n",
    "adata.write(output_path)"
   ]
  },
  {
   "cell_type": "code",
   "execution_count": 5,
   "id": "250b03c0-e401-4820-8471-e1a5b8de8636",
   "metadata": {},
   "outputs": [],
   "source": [
    "adata.write(\"Breast_Combined.h5ad.gz\")"
   ]
  },
  {
   "cell_type": "markdown",
   "id": "285f1cc4-305b-4d97-b0d8-2ab2ae207534",
   "metadata": {},
   "source": [
    "### 4.Colorectal"
   ]
  },
  {
   "cell_type": "code",
   "execution_count": 2,
   "id": "013fbdaa-f7c2-430e-82f9-f48ef43570a2",
   "metadata": {},
   "outputs": [
    {
     "name": "stderr",
     "output_type": "stream",
     "text": [
      "/home/ubuntu/.local/lib/python3.10/site-packages/anndata/_core/anndata.py:1756: UserWarning: Observation names are not unique. To make them unique, call `.obs_names_make_unique`.\n",
      "  utils.warn_names_duplicates(\"obs\")\n"
     ]
    }
   ],
   "source": [
    "adata = sc.read('./Downloads/Data_Colorectal/Colorectal_Combined.h5ad')"
   ]
  },
  {
   "cell_type": "code",
   "execution_count": 3,
   "id": "31e987f0-9141-42b2-96ed-2f56a26c84cc",
   "metadata": {},
   "outputs": [
    {
     "name": "stdout",
     "output_type": "stream",
     "text": [
      "Study: Data_Chen2021_Colorectal, Max value in adata.X: 3022.0\n",
      "Study: Data_Lee2020_Colorectal, Max value in adata.X: 21142.0\n",
      "Study: Data_Li2017_Colorectal, Max value in adata.X: 362906.84375\n",
      "Study: Data_Zhang2018_Colorectal, Max value in adata.X: 312001.09375\n",
      "Study: Pelka2021_Colorectal, Max value in adata.X: 59020.0\n"
     ]
    }
   ],
   "source": [
    "# Loop through each unique study\n",
    "for study in adata.obs['study'].unique():\n",
    "    # Create a mask for the current study\n",
    "    mask = adata.obs['study'] == study\n",
    "    # Subset the AnnData object\n",
    "    adata_subset = adata[mask]\n",
    "    \n",
    "    # Check if adata.X is sparse\n",
    "    if not isinstance(adata_subset.X, np.ndarray):\n",
    "        max_val = adata_subset.X.max()\n",
    "    else:\n",
    "        max_val = np.max(adata_subset.X)\n",
    "    \n",
    "    print(f\"Study: {study}, Max value in adata.X: {max_val}\")"
   ]
  },
  {
   "cell_type": "code",
   "execution_count": 4,
   "id": "ca5aedc6-ea38-4615-a58b-ff2568d18e2d",
   "metadata": {},
   "outputs": [
    {
     "data": {
      "text/plain": [
       "study\n",
       "Pelka2021_Colorectal         370115\n",
       "Data_Chen2021_Colorectal      57723\n",
       "Data_Lee2020_Colorectal       21657\n",
       "Data_Zhang2018_Colorectal     11138\n",
       "Data_Li2017_Colorectal          590\n",
       "Name: count, dtype: int64"
      ]
     },
     "execution_count": 4,
     "metadata": {},
     "output_type": "execute_result"
    }
   ],
   "source": [
    "adata.obs['study'].value_counts()"
   ]
  },
  {
   "cell_type": "code",
   "execution_count": 5,
   "id": "edb41687-a6c0-4367-b5b3-d4fb7981b5a9",
   "metadata": {},
   "outputs": [],
   "source": [
    "adata.write(\"Colorectal_Combined.h5ad.gz\")"
   ]
  },
  {
   "cell_type": "markdown",
   "id": "5acb889e-ab06-455f-8cbe-13f0d5b440d8",
   "metadata": {},
   "source": [
    "### 5.Head and Neck"
   ]
  },
  {
   "cell_type": "code",
   "execution_count": 10,
   "id": "2b0515fb-cca1-48a0-b2bb-2ec1bf6ac143",
   "metadata": {},
   "outputs": [
    {
     "name": "stderr",
     "output_type": "stream",
     "text": [
      "/home/ubuntu/.local/lib/python3.10/site-packages/anndata/_core/anndata.py:1756: UserWarning: Observation names are not unique. To make them unique, call `.obs_names_make_unique`.\n",
      "  utils.warn_names_duplicates(\"obs\")\n"
     ]
    }
   ],
   "source": [
    "adata = sc.read('./Downloads/Data_Head-and-Neck/Head-and-Neck_Combined.h5ad')"
   ]
  },
  {
   "cell_type": "code",
   "execution_count": 11,
   "id": "7a26cb8a-b093-459a-84ce-cbc9442699ef",
   "metadata": {},
   "outputs": [
    {
     "name": "stdout",
     "output_type": "stream",
     "text": [
      "Study: Chen2020_Head-and-Neck, Max value in adata.X: 41165.0\n",
      "Study: Cillo2020_Head-and-Neck, Max value in adata.X: 27866.0\n",
      "Study: Kürten2021_Head-and-Neck, Max value in adata.X: 32506.0\n",
      "Study: Puram2017_Head-and-Neck, Max value in adata.X: 706782.9375\n"
     ]
    }
   ],
   "source": [
    "# Loop through each unique study\n",
    "for study in adata.obs['study'].unique():\n",
    "    # Create a mask for the current study\n",
    "    mask = adata.obs['study'] == study\n",
    "    # Subset the AnnData object\n",
    "    adata_subset = adata[mask]\n",
    "    \n",
    "    # Check if adata.X is sparse\n",
    "    if not isinstance(adata_subset.X, np.ndarray):\n",
    "        max_val = adata_subset.X.max()\n",
    "    else:\n",
    "        max_val = np.max(adata_subset.X)\n",
    "    \n",
    "    print(f\"Study: {study}, Max value in adata.X: {max_val}\")"
   ]
  },
  {
   "cell_type": "code",
   "execution_count": 12,
   "id": "9cc2be02-be36-4aa8-832b-71c05763cf1c",
   "metadata": {},
   "outputs": [
    {
     "data": {
      "text/plain": [
       "study\n",
       "Cillo2020_Head-and-Neck     92569\n",
       "Chen2020_Head-and-Neck      71896\n",
       "Kürten2021_Head-and-Neck    62700\n",
       "Puram2017_Head-and-Neck      5902\n",
       "Name: count, dtype: int64"
      ]
     },
     "execution_count": 12,
     "metadata": {},
     "output_type": "execute_result"
    }
   ],
   "source": [
    "adata.obs['study'].value_counts()"
   ]
  },
  {
   "cell_type": "markdown",
   "id": "dfcf3679-a708-4eac-8345-6e8d7597967a",
   "metadata": {},
   "source": [
    "### 6.Kidney"
   ]
  },
  {
   "cell_type": "code",
   "execution_count": 14,
   "id": "4ed8072c-6223-4436-bfe1-35ea4eeb3753",
   "metadata": {},
   "outputs": [
    {
     "name": "stderr",
     "output_type": "stream",
     "text": [
      "/home/ubuntu/.local/lib/python3.10/site-packages/anndata/_core/anndata.py:1756: UserWarning: Observation names are not unique. To make them unique, call `.obs_names_make_unique`.\n",
      "  utils.warn_names_duplicates(\"obs\")\n"
     ]
    }
   ],
   "source": [
    "adata = sc.read('./Downloads/Data_Kidney/Kidney_Combined.h5ad')"
   ]
  },
  {
   "cell_type": "code",
   "execution_count": 15,
   "id": "f9b51238-5653-4298-abd9-e204d540c3d6",
   "metadata": {},
   "outputs": [
    {
     "name": "stdout",
     "output_type": "stream",
     "text": [
      "Study: Data_Krishna2021_Kidney, Max value in adata.X: 10487.0\n",
      "Study: Data_Obradovic2021_Kidney, Max value in adata.X: 3596.0\n",
      "Study: Data_Young2018_Kidney, Max value in adata.X: 23549.0\n",
      "Study: Data_Zhang2021_Kidney, Max value in adata.X: 14783.0\n"
     ]
    }
   ],
   "source": [
    "# Loop through each unique study\n",
    "for study in adata.obs['study'].unique():\n",
    "    # Create a mask for the current study\n",
    "    mask = adata.obs['study'] == study\n",
    "    # Subset the AnnData object\n",
    "    adata_subset = adata[mask]\n",
    "    \n",
    "    # Check if adata.X is sparse\n",
    "    if not isinstance(adata_subset.X, np.ndarray):\n",
    "        max_val = adata_subset.X.max()\n",
    "    else:\n",
    "        max_val = np.max(adata_subset.X)\n",
    "    \n",
    "    print(f\"Study: {study}, Max value in adata.X: {max_val}\")"
   ]
  },
  {
   "cell_type": "code",
   "execution_count": 31,
   "id": "cfdc6906-a041-40ef-8c06-3362d415d94b",
   "metadata": {},
   "outputs": [
    {
     "name": "stderr",
     "output_type": "stream",
     "text": [
      "/home/ubuntu/.local/lib/python3.10/site-packages/anndata/_core/anndata.py:1756: UserWarning: Observation names are not unique. To make them unique, call `.obs_names_make_unique`.\n",
      "  utils.warn_names_duplicates(\"obs\")\n"
     ]
    }
   ],
   "source": [
    "# List of studies to omit\n",
    "studies_to_omit = ['Data_Bi2021_Kidney']\n",
    "\n",
    "# Keep only cells not in those studies\n",
    "adata = adata[~adata.obs['study'].isin(studies_to_omit)].copy()\n"
   ]
  },
  {
   "cell_type": "code",
   "execution_count": 16,
   "id": "3908c092-3c6e-4381-bcb0-7fcc87b865b5",
   "metadata": {},
   "outputs": [
    {
     "data": {
      "text/plain": [
       "study\n",
       "Data_Krishna2021_Kidney      167283\n",
       "Data_Young2018_Kidney        125139\n",
       "Data_Zhang2021_Kidney         29474\n",
       "Data_Obradovic2021_Kidney     19781\n",
       "Name: count, dtype: int64"
      ]
     },
     "execution_count": 16,
     "metadata": {},
     "output_type": "execute_result"
    }
   ],
   "source": [
    "adata.obs['study'].value_counts()"
   ]
  },
  {
   "cell_type": "code",
   "execution_count": 17,
   "id": "bcd19ac3-285d-4c73-84af-f78b550c2c6c",
   "metadata": {},
   "outputs": [],
   "source": [
    "adata.write(\"Kidney_Combined.h5ad.gz\")"
   ]
  },
  {
   "cell_type": "markdown",
   "id": "54105e99-1502-4c51-947f-344db6aab4c2",
   "metadata": {},
   "source": [
    "### 7.Liver-Biliary"
   ]
  },
  {
   "cell_type": "code",
   "execution_count": 18,
   "id": "440b573d-b4b6-468e-9473-33108dcafc9e",
   "metadata": {},
   "outputs": [
    {
     "name": "stderr",
     "output_type": "stream",
     "text": [
      "/home/ubuntu/.local/lib/python3.10/site-packages/anndata/_core/anndata.py:1756: UserWarning: Observation names are not unique. To make them unique, call `.obs_names_make_unique`.\n",
      "  utils.warn_names_duplicates(\"obs\")\n"
     ]
    }
   ],
   "source": [
    "adata = sc.read('./Downloads/Data_Liver-Biliary/Liver-Biliary_Combined.h5ad')"
   ]
  },
  {
   "cell_type": "code",
   "execution_count": 19,
   "id": "3567c05c-e72a-4bee-a6ad-881d1db2feaf",
   "metadata": {},
   "outputs": [
    {
     "name": "stdout",
     "output_type": "stream",
     "text": [
      "Study: Data_Ma2019_Liver-Biliary, Max value in adata.X: 8610.0\n",
      "Study: Data_Sharma2020_Liver-Biliary, Max value in adata.X: 19450.0\n",
      "Study: Zhang2019_Liver-Biliary, Max value in adata.X: 623192.5\n",
      "Study: Zheng2017_Liver-Biliary, Max value in adata.X: 253656.71875\n"
     ]
    }
   ],
   "source": [
    "# Loop through each unique study\n",
    "for study in adata.obs['study'].unique():\n",
    "    # Create a mask for the current study\n",
    "    mask = adata.obs['study'] == study\n",
    "    # Subset the AnnData object\n",
    "    adata_subset = adata[mask]\n",
    "    \n",
    "    # Check if adata.X is sparse\n",
    "    if not isinstance(adata_subset.X, np.ndarray):\n",
    "        max_val = adata_subset.X.max()\n",
    "    else:\n",
    "        max_val = np.max(adata_subset.X)\n",
    "    \n",
    "    print(f\"Study: {study}, Max value in adata.X: {max_val}\")"
   ]
  },
  {
   "cell_type": "code",
   "execution_count": 36,
   "id": "49cca0bf-d64d-47fe-9b64-7ac2bcd35d03",
   "metadata": {},
   "outputs": [
    {
     "name": "stderr",
     "output_type": "stream",
     "text": [
      "/home/ubuntu/.local/lib/python3.10/site-packages/anndata/_core/anndata.py:1756: UserWarning: Observation names are not unique. To make them unique, call `.obs_names_make_unique`.\n",
      "  utils.warn_names_duplicates(\"obs\")\n"
     ]
    }
   ],
   "source": [
    "# List of studies to omit\n",
    "studies_to_omit = ['Sun2021_Liver-Biliary']\n",
    "\n",
    "# Keep only cells not in those studies\n",
    "adata = adata[~adata.obs['study'].isin(studies_to_omit)].copy()\n"
   ]
  },
  {
   "cell_type": "code",
   "execution_count": 20,
   "id": "61746a2f-4c25-4c5e-8c91-f8f691faf566",
   "metadata": {},
   "outputs": [
    {
     "data": {
      "text/plain": [
       "study\n",
       "Data_Sharma2020_Liver-Biliary    73589\n",
       "Zhang2019_Liver-Biliary          73261\n",
       "Zheng2017_Liver-Biliary           5063\n",
       "Data_Ma2019_Liver-Biliary         3018\n",
       "Name: count, dtype: int64"
      ]
     },
     "execution_count": 20,
     "metadata": {},
     "output_type": "execute_result"
    }
   ],
   "source": [
    "adata.obs['study'].value_counts()"
   ]
  },
  {
   "cell_type": "code",
   "execution_count": 21,
   "id": "824d987c-a3fd-486c-9225-682c35b628eb",
   "metadata": {},
   "outputs": [],
   "source": [
    "adata.write(\"Liver-Biliary_Combined.h5ad.gz\")"
   ]
  },
  {
   "cell_type": "markdown",
   "id": "8abcb61d-b601-4ce8-b0ca-9c7ad28b9805",
   "metadata": {},
   "source": [
    "### 8.Neuroendocrine"
   ]
  },
  {
   "cell_type": "code",
   "execution_count": 22,
   "id": "1468c832-cb0a-4154-8b09-de6ac965ec2a",
   "metadata": {},
   "outputs": [
    {
     "name": "stderr",
     "output_type": "stream",
     "text": [
      "/home/ubuntu/.local/lib/python3.10/site-packages/anndata/_core/anndata.py:1756: UserWarning: Observation names are not unique. To make them unique, call `.obs_names_make_unique`.\n",
      "  utils.warn_names_duplicates(\"obs\")\n"
     ]
    }
   ],
   "source": [
    "adata = sc.read('./Downloads/Data_Neuroendocrine/Neuroendocrine_Combined.h5ad')"
   ]
  },
  {
   "cell_type": "code",
   "execution_count": 23,
   "id": "b6d9d6a8-f3e6-4d38-9aba-26a7ac4c9a5f",
   "metadata": {},
   "outputs": [
    {
     "name": "stdout",
     "output_type": "stream",
     "text": [
      "Study: Kildisiute2021_Neuroendocrine, Max value in adata.X: 22977.400390625\n",
      "Study: Dong2020_Neuroendocrine, Max value in adata.X: 37435.0\n",
      "Study: Jansky2021_Neuroendocrine, Max value in adata.X: 2385.0\n",
      "Study: Rao2020_Neuroendocrine, Max value in adata.X: 2540.0\n"
     ]
    }
   ],
   "source": [
    "# Loop through each unique study\n",
    "for study in adata.obs['study'].unique():\n",
    "    # Create a mask for the current study\n",
    "    mask = adata.obs['study'] == study\n",
    "    # Subset the AnnData object\n",
    "    adata_subset = adata[mask]\n",
    "    \n",
    "    # Check if adata.X is sparse\n",
    "    if not isinstance(adata_subset.X, np.ndarray):\n",
    "        max_val = adata_subset.X.max()\n",
    "    else:\n",
    "        max_val = np.max(adata_subset.X)\n",
    "    \n",
    "    print(f\"Study: {study}, Max value in adata.X: {max_val}\")"
   ]
  },
  {
   "cell_type": "code",
   "execution_count": 24,
   "id": "9fa9e50d-f386-48ea-81fc-21eced177a74",
   "metadata": {},
   "outputs": [
    {
     "data": {
      "text/plain": [
       "study\n",
       "Jansky2021_Neuroendocrine        64769\n",
       "Dong2020_Neuroendocrine          55190\n",
       "Kildisiute2021_Neuroendocrine    19723\n",
       "Rao2020_Neuroendocrine            4739\n",
       "Name: count, dtype: int64"
      ]
     },
     "execution_count": 24,
     "metadata": {},
     "output_type": "execute_result"
    }
   ],
   "source": [
    "adata.obs['study'].value_counts()"
   ]
  },
  {
   "cell_type": "code",
   "execution_count": 25,
   "id": "95a10754-b7f4-4aee-978c-ee4fcd41373d",
   "metadata": {},
   "outputs": [],
   "source": [
    "adata.write(\"Neuroendocrine_Combined.h5ad.gz\")"
   ]
  },
  {
   "cell_type": "markdown",
   "id": "26829eb5-aabd-4788-8596-7e125205a5f4",
   "metadata": {},
   "source": [
    "### 9.Ovarian"
   ]
  },
  {
   "cell_type": "code",
   "execution_count": 26,
   "id": "8bfbc352-706e-4c9f-bd1e-8e2bd50f1457",
   "metadata": {},
   "outputs": [
    {
     "name": "stderr",
     "output_type": "stream",
     "text": [
      "/home/ubuntu/.local/lib/python3.10/site-packages/anndata/_core/anndata.py:1756: UserWarning: Observation names are not unique. To make them unique, call `.obs_names_make_unique`.\n",
      "  utils.warn_names_duplicates(\"obs\")\n"
     ]
    }
   ],
   "source": [
    "adata = sc.read('./Downloads/Data_Ovarian/Ovarian_Combined.h5ad')"
   ]
  },
  {
   "cell_type": "code",
   "execution_count": 27,
   "id": "d6009bee-8694-4f00-83ad-b06e9792ab46",
   "metadata": {},
   "outputs": [
    {
     "name": "stdout",
     "output_type": "stream",
     "text": [
      "Study: Geistlinger2020_Ovarian, Max value in adata.X: 763867.625\n",
      "Study: Izar2020_Ovarian, Max value in adata.X: 81908.890625\n",
      "Study: Nath2021_Ovarian, Max value in adata.X: 8504.0\n",
      "Study: Olalekan2021_Ovarian, Max value in adata.X: 5217.0\n",
      "Study: Olbrecht2021_Ovarian, Max value in adata.X: 25716.0\n",
      "Study: Qian2020_Ovarian, Max value in adata.X: 21993.0\n",
      "Study: Regner2021_Ovarian, Max value in adata.X: 18323.0\n",
      "Study: Data_Shih2018_Ovarian, Max value in adata.X: 3304.0\n",
      "Study: Tang-Huau2018_Ovarian, Max value in adata.X: 10566.0\n",
      "Study: Data_Zhang2019_Ovarian, Max value in adata.X: 26065.0\n",
      "Study: Zhang2022_Ovarian, Max value in adata.X: 30981.0\n"
     ]
    }
   ],
   "source": [
    "# Loop through each unique study\n",
    "for study in adata.obs['study'].unique():\n",
    "    # Create a mask for the current study\n",
    "    mask = adata.obs['study'] == study\n",
    "    # Subset the AnnData object\n",
    "    adata_subset = adata[mask]\n",
    "    \n",
    "    # Check if adata.X is sparse\n",
    "    if not isinstance(adata_subset.X, np.ndarray):\n",
    "        max_val = adata_subset.X.max()\n",
    "    else:\n",
    "        max_val = np.max(adata_subset.X)\n",
    "    \n",
    "    print(f\"Study: {study}, Max value in adata.X: {max_val}\")"
   ]
  },
  {
   "cell_type": "code",
   "execution_count": 28,
   "id": "ea794f34-203e-4755-a685-0ecdab6a6b09",
   "metadata": {},
   "outputs": [
    {
     "data": {
      "text/plain": [
       "study\n",
       "Regner2021_Ovarian         65144\n",
       "Zhang2022_Ovarian          51786\n",
       "Nath2021_Ovarian           41729\n",
       "Geistlinger2020_Ovarian    41031\n",
       "Qian2020_Ovarian           16951\n",
       "Olbrecht2021_Ovarian       15528\n",
       "Izar2020_Ovarian           10788\n",
       "Olalekan2021_Ovarian        9885\n",
       "Tang-Huau2018_Ovarian       8404\n",
       "Data_Zhang2019_Ovarian      4848\n",
       "Data_Shih2018_Ovarian       3066\n",
       "Name: count, dtype: int64"
      ]
     },
     "execution_count": 28,
     "metadata": {},
     "output_type": "execute_result"
    }
   ],
   "source": [
    "adata.obs['study'].value_counts()"
   ]
  },
  {
   "cell_type": "code",
   "execution_count": 29,
   "id": "2a4149cd-085d-4553-bdaf-0443e9a88fe1",
   "metadata": {},
   "outputs": [],
   "source": [
    "adata.write(\"Ovarian_Combined.h5ad.gz\")"
   ]
  },
  {
   "cell_type": "markdown",
   "id": "cb0e5be9-cf07-4fea-a474-faa01c7964e4",
   "metadata": {},
   "source": [
    "### 10.Pancreas"
   ]
  },
  {
   "cell_type": "code",
   "execution_count": 30,
   "id": "e1c2cd44-78ac-42d5-a6c8-1beefba65629",
   "metadata": {},
   "outputs": [
    {
     "name": "stderr",
     "output_type": "stream",
     "text": [
      "/home/ubuntu/.local/lib/python3.10/site-packages/anndata/_core/anndata.py:1756: UserWarning: Observation names are not unique. To make them unique, call `.obs_names_make_unique`.\n",
      "  utils.warn_names_duplicates(\"obs\")\n"
     ]
    }
   ],
   "source": [
    "adata = sc.read('./Downloads/Data_Pancreas/Pancreas_Combined.h5ad')"
   ]
  },
  {
   "cell_type": "code",
   "execution_count": 31,
   "id": "8916092f-3174-462b-9077-e1ef80105e81",
   "metadata": {},
   "outputs": [
    {
     "name": "stdout",
     "output_type": "stream",
     "text": [
      "Study: Hwang2022_Pancreas, Max value in adata.X: 389.6543273925781\n",
      "Study: Lin2020_Pancreas, Max value in adata.X: 1956.0\n",
      "Study: Moncada2020_Pancreas, Max value in adata.X: 2209.0\n",
      "Study: Peng2019_Pancreas, Max value in adata.X: 29752.0\n",
      "Study: Raghavan2021_Pancreas, Max value in adata.X: 4848.0\n",
      "Study: Steele2020_Pancreas, Max value in adata.X: 64538.0\n"
     ]
    }
   ],
   "source": [
    "# Loop through each unique study\n",
    "for study in adata.obs['study'].unique():\n",
    "    # Create a mask for the current study\n",
    "    mask = adata.obs['study'] == study\n",
    "    # Subset the AnnData object\n",
    "    adata_subset = adata[mask]\n",
    "    \n",
    "    # Check if adata.X is sparse\n",
    "    if not isinstance(adata_subset.X, np.ndarray):\n",
    "        max_val = adata_subset.X.max()\n",
    "    else:\n",
    "        max_val = np.max(adata_subset.X)\n",
    "    \n",
    "    print(f\"Study: {study}, Max value in adata.X: {max_val}\")"
   ]
  },
  {
   "cell_type": "code",
   "execution_count": 32,
   "id": "3a4b6dd7-de8d-4d82-949f-a5528a21fb2a",
   "metadata": {},
   "outputs": [
    {
     "data": {
      "text/plain": [
       "study\n",
       "Hwang2022_Pancreas       224988\n",
       "Steele2020_Pancreas       48570\n",
       "Peng2019_Pancreas         27953\n",
       "Raghavan2021_Pancreas     24412\n",
       "Lin2020_Pancreas          14926\n",
       "Moncada2020_Pancreas       3659\n",
       "Name: count, dtype: int64"
      ]
     },
     "execution_count": 32,
     "metadata": {},
     "output_type": "execute_result"
    }
   ],
   "source": [
    "adata.obs['study'].value_counts()"
   ]
  },
  {
   "cell_type": "code",
   "execution_count": 33,
   "id": "8662f520-9f7e-4fcf-9379-16e374ba13df",
   "metadata": {},
   "outputs": [],
   "source": [
    "adata.write(\"Pancreas_Combined.h5ad.gz\")"
   ]
  },
  {
   "cell_type": "markdown",
   "id": "c56a91be-52bb-467d-886f-0c3b1ffbd3b2",
   "metadata": {},
   "source": [
    "### 11.Prostate"
   ]
  },
  {
   "cell_type": "code",
   "execution_count": 34,
   "id": "93c1ce1f-5176-40af-8bee-229744305a89",
   "metadata": {},
   "outputs": [
    {
     "name": "stderr",
     "output_type": "stream",
     "text": [
      "/home/ubuntu/.local/lib/python3.10/site-packages/anndata/_core/anndata.py:1756: UserWarning: Observation names are not unique. To make them unique, call `.obs_names_make_unique`.\n",
      "  utils.warn_names_duplicates(\"obs\")\n"
     ]
    }
   ],
   "source": [
    "adata = sc.read('./Downloads/Data_Prostate/Prostate_Combined.h5ad')"
   ]
  },
  {
   "cell_type": "code",
   "execution_count": 35,
   "id": "cea5e7bb-dd62-4c2c-aa57-741da659c395",
   "metadata": {},
   "outputs": [
    {
     "name": "stdout",
     "output_type": "stream",
     "text": [
      "Study: Data_Chen2021_Prostate, Max value in adata.X: 12439.0\n",
      "Study: Data_Dong2020_Prostate, Max value in adata.X: 21063.0\n",
      "Study: He2021_Prostate, Max value in adata.X: 435749.3125\n",
      "Study: Song2022_Prostate, Max value in adata.X: 2804.0\n"
     ]
    }
   ],
   "source": [
    "# Loop through each unique study\n",
    "for study in adata.obs['study'].unique():\n",
    "    # Create a mask for the current study\n",
    "    mask = adata.obs['study'] == study\n",
    "    # Subset the AnnData object\n",
    "    adata_subset = adata[mask]\n",
    "    \n",
    "    # Check if adata.X is sparse\n",
    "    if not isinstance(adata_subset.X, np.ndarray):\n",
    "        max_val = adata_subset.X.max()\n",
    "    else:\n",
    "        max_val = np.max(adata_subset.X)\n",
    "    \n",
    "    print(f\"Study: {study}, Max value in adata.X: {max_val}\")"
   ]
  },
  {
   "cell_type": "code",
   "execution_count": 36,
   "id": "4c2c62f3-3257-433d-8e56-59beaa4cd7c9",
   "metadata": {},
   "outputs": [
    {
     "data": {
      "text/plain": [
       "study\n",
       "Data_Chen2021_Prostate    36424\n",
       "Song2022_Prostate         21743\n",
       "Data_Dong2020_Prostate    21292\n",
       "He2021_Prostate            2170\n",
       "Name: count, dtype: int64"
      ]
     },
     "execution_count": 36,
     "metadata": {},
     "output_type": "execute_result"
    }
   ],
   "source": [
    "adata.obs['study'].value_counts()"
   ]
  },
  {
   "cell_type": "code",
   "execution_count": 37,
   "id": "fa0715f1-3013-43c9-a57f-770f248c8cce",
   "metadata": {},
   "outputs": [],
   "source": [
    "adata.write(\"Prostate_Combined.h5ad.gz\")"
   ]
  },
  {
   "cell_type": "markdown",
   "id": "5765acc9-b747-4938-a2f6-858cb4ab2bd5",
   "metadata": {},
   "source": [
    "### 12.Sarcoma"
   ]
  },
  {
   "cell_type": "code",
   "execution_count": 38,
   "id": "0836503e-8207-4135-a850-148b7daa5a5c",
   "metadata": {},
   "outputs": [],
   "source": [
    "adata = sc.read('./Downloads/Data_Sarcoma/Sarcoma_Combined.h5ad')"
   ]
  },
  {
   "cell_type": "code",
   "execution_count": 39,
   "id": "47b2eb3b-13ff-4150-b500-f4df983ce872",
   "metadata": {},
   "outputs": [
    {
     "name": "stdout",
     "output_type": "stream",
     "text": [
      "Study: Jerby-Arnon2021_Sarcoma, Max value in adata.X: 34730.069\n",
      "Study: Data_Zhou2020_Sarcoma, Max value in adata.X: 11419.0\n"
     ]
    }
   ],
   "source": [
    "# Loop through each unique study\n",
    "for study in adata.obs['study'].unique():\n",
    "    # Create a mask for the current study\n",
    "    mask = adata.obs['study'] == study\n",
    "    # Subset the AnnData object\n",
    "    adata_subset = adata[mask]\n",
    "    \n",
    "    # Check if adata.X is sparse\n",
    "    if not isinstance(adata_subset.X, np.ndarray):\n",
    "        max_val = adata_subset.X.max()\n",
    "    else:\n",
    "        max_val = np.max(adata_subset.X)\n",
    "    \n",
    "    print(f\"Study: {study}, Max value in adata.X: {max_val}\")"
   ]
  },
  {
   "cell_type": "code",
   "execution_count": 40,
   "id": "0c10ce6b-8dac-424b-a826-d7668300cbf4",
   "metadata": {},
   "outputs": [
    {
     "data": {
      "text/plain": [
       "study\n",
       "Data_Zhou2020_Sarcoma      64557\n",
       "Jerby-Arnon2021_Sarcoma    16125\n",
       "Name: count, dtype: int64"
      ]
     },
     "execution_count": 40,
     "metadata": {},
     "output_type": "execute_result"
    }
   ],
   "source": [
    "adata.obs['study'].value_counts()"
   ]
  },
  {
   "cell_type": "code",
   "execution_count": 41,
   "id": "0869e108-c298-4d2c-b4f8-00078585750f",
   "metadata": {},
   "outputs": [],
   "source": [
    "adata.write(\"Sarcoma_Combined.h5ad.gz\")"
   ]
  },
  {
   "cell_type": "markdown",
   "id": "431afddc-dd59-4a1c-9a98-c1efbb0bf0b3",
   "metadata": {},
   "source": [
    "### 13.Skin"
   ]
  },
  {
   "cell_type": "code",
   "execution_count": 42,
   "id": "6d106fee-af02-4b23-8169-4cfc26cc3302",
   "metadata": {},
   "outputs": [
    {
     "name": "stderr",
     "output_type": "stream",
     "text": [
      "/home/ubuntu/.local/lib/python3.10/site-packages/anndata/_core/anndata.py:1756: UserWarning: Observation names are not unique. To make them unique, call `.obs_names_make_unique`.\n",
      "  utils.warn_names_duplicates(\"obs\")\n"
     ]
    }
   ],
   "source": [
    "adata = sc.read('./Downloads/Data_Skin/Skin_Combined.h5ad')"
   ]
  },
  {
   "cell_type": "code",
   "execution_count": 43,
   "id": "4ec4187f-f246-4dcc-812e-b357223a2e09",
   "metadata": {},
   "outputs": [
    {
     "name": "stdout",
     "output_type": "stream",
     "text": [
      "Study: Biermann2022_Skin, Max value in adata.X: 29227.0\n",
      "Study: Ferrari de Andrade2019_Skin, Max value in adata.X: 22544.0\n",
      "Study: Jerby-Arnon2018_Skin, Max value in adata.X: 621275.0625\n",
      "Study: Ji2020_Skin, Max value in adata.X: 14152.0\n",
      "Study: Li2019_Skin, Max value in adata.X: 18568.0\n",
      "Study: Mahuron2020_Skin, Max value in adata.X: 17543.0\n",
      "Study: Paulson2020_Skin, Max value in adata.X: 18834.0\n",
      "Study: Sade-Feldman2018_Skin, Max value in adata.X: 703337.3125\n",
      "Study: Tirosh2016_Skin, Max value in adata.X: 621288.9375\n",
      "Study: Yost2019_Skin, Max value in adata.X: 31586.0\n"
     ]
    }
   ],
   "source": [
    "# Loop through each unique study\n",
    "for study in adata.obs['study'].unique():\n",
    "    # Create a mask for the current study\n",
    "    mask = adata.obs['study'] == study\n",
    "    # Subset the AnnData object\n",
    "    adata_subset = adata[mask]\n",
    "    \n",
    "    # Check if adata.X is sparse\n",
    "    if not isinstance(adata_subset.X, np.ndarray):\n",
    "        max_val = adata_subset.X.max()\n",
    "    else:\n",
    "        max_val = np.max(adata_subset.X)\n",
    "    \n",
    "    print(f\"Study: {study}, Max value in adata.X: {max_val}\")"
   ]
  },
  {
   "cell_type": "code",
   "execution_count": 44,
   "id": "20ddcc1b-de32-4c04-b9b5-04bae3469fd3",
   "metadata": {},
   "outputs": [
    {
     "data": {
      "text/plain": [
       "study\n",
       "Biermann2022_Skin              136973\n",
       "Yost2019_Skin                   79046\n",
       "Li2019_Skin                     78336\n",
       "Ji2020_Skin                     48164\n",
       "Ferrari de Andrade2019_Skin     40823\n",
       "Paulson2020_Skin                31376\n",
       "Mahuron2020_Skin                27935\n",
       "Sade-Feldman2018_Skin           16291\n",
       "Jerby-Arnon2018_Skin             7186\n",
       "Tirosh2016_Skin                  4645\n",
       "Name: count, dtype: int64"
      ]
     },
     "execution_count": 44,
     "metadata": {},
     "output_type": "execute_result"
    }
   ],
   "source": [
    "adata.obs['study'].value_counts()"
   ]
  },
  {
   "cell_type": "code",
   "execution_count": 45,
   "id": "42f2b6bc-36ef-4186-a21a-fa3790086ce2",
   "metadata": {},
   "outputs": [],
   "source": [
    "adata.write(\"Skin_Combined.h5ad.gz\")"
   ]
  }
 ],
 "metadata": {
  "kernelspec": {
   "display_name": "Python 3 (ipykernel)",
   "language": "python",
   "name": "python3"
  },
  "language_info": {
   "codemirror_mode": {
    "name": "ipython",
    "version": 3
   },
   "file_extension": ".py",
   "mimetype": "text/x-python",
   "name": "python",
   "nbconvert_exporter": "python",
   "pygments_lexer": "ipython3",
   "version": "3.10.12"
  }
 },
 "nbformat": 4,
 "nbformat_minor": 5
}

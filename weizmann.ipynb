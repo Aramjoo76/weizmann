{
 "cells": [
  {
   "cell_type": "code",
   "execution_count": 11,
   "id": "a2d60d0f-76dd-479e-8e55-f5b33749232b",
   "metadata": {},
   "outputs": [],
   "source": [
    "import pandas as pd\n",
    "import scanpy as sc\n",
    "from scipy.io import mmread\n",
    "import os"
   ]
  },
  {
   "cell_type": "markdown",
   "id": "7bea5a7e-e717-4d6e-9fc2-eb565781d1cb",
   "metadata": {},
   "source": [
    "### Data extraction"
   ]
  },
  {
   "cell_type": "markdown",
   "id": "75df1293-65a7-4c88-9f70-1256694e5d31",
   "metadata": {},
   "source": [
    "#### Sarcoma"
   ]
  },
  {
   "cell_type": "code",
   "execution_count": 12,
   "id": "b4765a98-70f5-4eb7-b43d-724c00a5179f",
   "metadata": {},
   "outputs": [],
   "source": [
    "# Define base path\n",
    "base_path = \"/home/ubuntu/Downloads/Data_Sarcoma/Data_Zhou2020_Sarcoma\"\n",
    "\n",
    "# Load files\n",
    "X = mmread(os.path.join(base_path, \"Exp_data_UMIcounts.mtx\")).T.tocsr()\n",
    "\n",
    "genes = pd.read_csv(os.path.join(base_path, \"Genes.txt\"), header=None)[0].tolist()\n",
    "cells_df = pd.read_csv(os.path.join(base_path, \"Cells.csv\"), index_col=0)\n",
    "samples_df = pd.read_csv(os.path.join(base_path, \"Samples.csv\"))\n",
    "\n",
    "# Create AnnData\n",
    "adata = sc.AnnData(X)\n",
    "adata.var_names = genes\n",
    "adata.obs = cells_df\n",
    "\n",
    "# Merge sample-level metadata into obs using 'sample'\n",
    "adata.obs = adata.obs.merge(samples_df, how=\"left\", on=\"sample\")\n"
   ]
  },
  {
   "cell_type": "code",
   "execution_count": 15,
   "id": "bb7aa71b-a6e2-4d16-a125-46bc098e8c13",
   "metadata": {},
   "outputs": [
    {
     "name": "stderr",
     "output_type": "stream",
     "text": [
      "... storing 'sample' as categorical\n",
      "... storing 'cell_type' as categorical\n",
      "... storing 'cell_cycle_phase' as categorical\n",
      "... storing 'mp_top' as categorical\n",
      "... storing 'mp_assignment' as categorical\n",
      "... storing 'source' as categorical\n",
      "... storing 'malignant' as categorical\n",
      "... storing 'technology' as categorical\n",
      "... storing 'patient' as categorical\n",
      "... storing 'cancer_type' as categorical\n",
      "... storing 'diagnosis_recurrence' as categorical\n",
      "... storing 'disease_extent' as categorical\n",
      "... storing 'sample_primary_met' as categorical\n",
      "... storing 'site' as categorical\n",
      "... storing 'histology' as categorical\n",
      "... storing 'genetic_hormonal_features' as categorical\n",
      "... storing 'KI67' as categorical\n",
      "... storing 'treated_naive' as categorical\n",
      "... storing 'chemotherapy_exposed' as categorical\n",
      "... storing 'targeted_rx_exposed' as categorical\n",
      "... storing 'targeted_rx_response' as categorical\n",
      "... storing 'ICB_exposed' as categorical\n",
      "... storing 'ICB_response' as categorical\n",
      "... storing 'ET_exposed' as categorical\n",
      "... storing 'ET_response' as categorical\n"
     ]
    }
   ],
   "source": [
    "adata.write(\"Zhou2020_Sarcoma.h5ad\")"
   ]
  },
  {
   "cell_type": "code",
   "execution_count": 31,
   "id": "eb411098-0441-48a0-8331-590d424d538f",
   "metadata": {},
   "outputs": [],
   "source": [
    "import pandas as pd\n",
    "import scanpy as sc\n",
    "from scipy.io import mmread\n",
    "import os\n",
    "\n",
    "base_path = \"/home/ubuntu/Downloads/Data_Sarcoma/Data_Jerby-Arnon2021_Sarcoma\"\n",
    "\n",
    "# Load 10X data\n",
    "path_10x = os.path.join(base_path, \"10X\")\n",
    "X_10x = mmread(os.path.join(path_10x, \"Exp_data_UMIcounts.mtx\")).T.tocsr()\n",
    "genes_10x = pd.read_csv(os.path.join(path_10x, \"Genes.txt\"), header=None)[0].tolist()\n",
    "cells_10x = pd.read_csv(os.path.join(path_10x, \"Cells.csv\"), index_col=0)\n",
    "\n",
    "adata_10x = sc.AnnData(X_10x)\n",
    "adata_10x.var_names = genes_10x\n",
    "adata_10x.obs = cells_10x\n",
    "adata_10x.obs['technology'] = '10X'\n",
    "\n",
    "# Load SmartSeq2 data\n",
    "path_ss2 = os.path.join(base_path, \"SmartSeq2\")\n",
    "X_ss2 = mmread(os.path.join(path_ss2, \"Exp_data_TPM.mtx\")).T.tocsr()\n",
    "genes_ss2 = pd.read_csv(os.path.join(path_ss2, \"Genes.txt\"), header=None)[0].tolist()\n",
    "cells_ss2 = pd.read_csv(os.path.join(path_ss2, \"Cells.csv\"), index_col=0)\n",
    "\n",
    "adata_ss2 = sc.AnnData(X_ss2)\n",
    "adata_ss2.var_names = genes_ss2\n",
    "adata_ss2.obs = cells_ss2\n",
    "adata_ss2.obs['technology'] = 'SmartSeq2'\n",
    "\n",
    "# Align genes by intersection\n",
    "common_genes = adata_10x.var_names.intersection(adata_ss2.var_names)\n",
    "\n",
    "adata_10x = adata_10x[:, common_genes].copy()\n",
    "adata_ss2 = adata_ss2[:, common_genes].copy()\n",
    "\n",
    "# Concatenate without changing obs_names\n",
    "adata_combined = adata_10x.concatenate(\n",
    "    adata_ss2, \n",
    "    batch_key='batch', \n",
    "    batch_categories=['10X', 'SmartSeq2'], \n",
    "    index_unique=None\n",
    ")\n",
    "\n",
    "# Check obs_names are unique\n",
    "assert adata_combined.obs_names.is_unique\n",
    "\n",
    "# Merge sample-level metadata\n",
    "samples_df = pd.read_csv(os.path.join(base_path, \"Samples.csv\"))\n",
    "samples_df = samples_df.drop_duplicates(subset=['sample'])\n",
    "\n",
    "# Reset index, merge, and restore index\n",
    "adata_combined.obs = adata_combined.obs.reset_index()\n",
    "index_col = adata_combined.obs.columns[0]\n",
    "adata_combined.obs = adata_combined.obs.merge(samples_df, how='left', on='sample')\n",
    "\n",
    "# Confirm no row number changes\n",
    "assert adata_combined.obs.shape[0] == adata_combined.shape[0], \"Row count mismatch!\"\n",
    "\n",
    "adata_combined.obs = adata_combined.obs.set_index(index_col)\n",
    "adata_combined.obs.index.name = None\n"
   ]
  },
  {
   "cell_type": "code",
   "execution_count": 39,
   "id": "293d0cbc-6979-428b-949e-c65434bbde4d",
   "metadata": {},
   "outputs": [
    {
     "data": {
      "text/plain": [
       "cell_name\n",
       "SS12pt.10x.P1_AAACCTGTCACCTTAT_1          10x\n",
       "SS12pt.10x.P1_AAACCTGTCAGTCAGT_1          10x\n",
       "SS12pt.10x.P1_AAACCTGTCCAAAGTC_1          10x\n",
       "SS12pt.10x.P1_AAACCTGTCCGTCATC_1          10x\n",
       "SS12pt.10x.P1_AAACCTGTCTATGTGG_1          10x\n",
       "                                      ...    \n",
       "SS7posP2_H02                        SmartSeq2\n",
       "SS7posP2_H03                        SmartSeq2\n",
       "SS7posP2_H04                        SmartSeq2\n",
       "SS7posP2_H10                        SmartSeq2\n",
       "SS7posP2_H11                        SmartSeq2\n",
       "Name: technology, Length: 16125, dtype: object"
      ]
     },
     "execution_count": 39,
     "metadata": {},
     "output_type": "execute_result"
    }
   ],
   "source": [
    "adata_combined.obs[\"technology\"]"
   ]
  },
  {
   "cell_type": "code",
   "execution_count": 41,
   "id": "0308ea74-bbc7-4ec8-baba-ca262005436e",
   "metadata": {},
   "outputs": [],
   "source": [
    "# Save the combined AnnData object to an h5ad file\n",
    "adata_combined.write(\"Jerby-Arnon2021_Sarcoma.h5ad\")"
   ]
  },
  {
   "cell_type": "markdown",
   "id": "913a2f46-9a3d-4ea1-abcd-1141fbf87c69",
   "metadata": {},
   "source": [
    "#### Hematologic"
   ]
  },
  {
   "cell_type": "code",
   "execution_count": 44,
   "id": "274ae4ea-98be-42a4-b29a-7d2ce6546e29",
   "metadata": {},
   "outputs": [
    {
     "name": "stdout",
     "output_type": "stream",
     "text": [
      "\n",
      "Processing Data_Caron2020_Hematologic...\n"
     ]
    },
    {
     "name": "stderr",
     "output_type": "stream",
     "text": [
      "... storing 'sample' as categorical\n",
      "... storing 'cell_type' as categorical\n",
      "... storing 'cell_cycle_phase' as categorical\n",
      "... storing 'mp_top' as categorical\n",
      "... storing 'mp_assignment' as categorical\n",
      "... storing 'source' as categorical\n",
      "... storing 'technology' as categorical\n",
      "... storing 'patient' as categorical\n",
      "... storing 'cancer_type' as categorical\n",
      "... storing 'sample_type' as categorical\n"
     ]
    },
    {
     "name": "stdout",
     "output_type": "stream",
     "text": [
      "Saved: /home/ubuntu/Downloads/Data_Hematologic/Data_Caron2020_Hematologic/Data_Caron2020_Hematologic.h5ad\n",
      "\n",
      "Processing Data_Cohen2021_Hematologic...\n"
     ]
    },
    {
     "name": "stderr",
     "output_type": "stream",
     "text": [
      "... storing 'sample' as categorical\n",
      "... storing 'patient_x' as categorical\n",
      "... storing 'cell_type' as categorical\n",
      "... storing 'cell_cycle_phase' as categorical\n",
      "... storing 'mp_top' as categorical\n",
      "... storing 'mp_assignment' as categorical\n",
      "... storing 'technology' as categorical\n",
      "... storing 'patient_y' as categorical\n",
      "... storing 'cancer_type' as categorical\n",
      "... storing 'sample_primary_met' as categorical\n",
      "... storing 'site' as categorical\n",
      "... storing 'histology' as categorical\n",
      "... storing 'treated_naive' as categorical\n",
      "... storing 'chemotherapy_exposed' as categorical\n",
      "... storing 'chemotherapy_response' as categorical\n",
      "... storing 'targeted_rx_exposed' as categorical\n",
      "... storing 'targeted_rx_response' as categorical\n",
      "... storing 'ICB_exposed' as categorical\n",
      "... storing 'ICB_response' as categorical\n",
      "... storing 'ET_exposed' as categorical\n",
      "... storing 'ET_response' as categorical\n"
     ]
    },
    {
     "name": "stdout",
     "output_type": "stream",
     "text": [
      "Saved: /home/ubuntu/Downloads/Data_Hematologic/Data_Cohen2021_Hematologic/Data_Cohen2021_Hematologic.h5ad\n",
      "\n",
      "Processing Data_Galen2019_Hematologic...\n"
     ]
    },
    {
     "name": "stderr",
     "output_type": "stream",
     "text": [
      "... storing 'sample' as categorical\n",
      "... storing 'cell_type' as categorical\n",
      "... storing 'cell_subtype' as categorical\n",
      "... storing 'cell_cycle_phase' as categorical\n",
      "... storing 'mp_top' as categorical\n",
      "... storing 'mp_assignment' as categorical\n",
      "... storing 'source' as categorical\n",
      "... storing 'technology' as categorical\n",
      "... storing 'patient' as categorical\n",
      "... storing 'cancer_type' as categorical\n",
      "... storing 'sex' as categorical\n",
      "... storing 'diagnosis_recurrence' as categorical\n",
      "... storing 'site' as categorical\n",
      "... storing 'genetic_hormonal_features' as categorical\n",
      "... storing 'treated_naive' as categorical\n",
      "... storing 'chemotherapy_exposed' as categorical\n",
      "... storing 'chemotherapy_response' as categorical\n",
      "... storing 'targeted_rx_exposed' as categorical\n",
      "... storing 'targeted_rx_response' as categorical\n",
      "... storing 'ICB_exposed' as categorical\n",
      "... storing 'ICB_response' as categorical\n",
      "... storing 'ET_exposed' as categorical\n",
      "... storing 'ET_response' as categorical\n"
     ]
    },
    {
     "name": "stdout",
     "output_type": "stream",
     "text": [
      "Saved: /home/ubuntu/Downloads/Data_Hematologic/Data_Galen2019_Hematologic/Data_Galen2019_Hematologic.h5ad\n",
      "\n",
      "Processing Data_Gaydosik2019_Hematologic...\n"
     ]
    },
    {
     "name": "stderr",
     "output_type": "stream",
     "text": [
      "... storing 'sample' as categorical\n",
      "... storing 'patient_x' as categorical\n",
      "... storing 'source_x' as categorical\n",
      "... storing 'cell_type' as categorical\n",
      "... storing 'cell_cycle_phase' as categorical\n",
      "... storing 'mp_top' as categorical\n",
      "... storing 'mp_assignment' as categorical\n",
      "... storing 'patient_y' as categorical\n",
      "... storing 'technology' as categorical\n",
      "... storing 'source_y' as categorical\n",
      "... storing 'cancer_type' as categorical\n",
      "... storing 'sex' as categorical\n",
      "... storing 'stage' as categorical\n",
      "... storing 'tnm_stage' as categorical\n"
     ]
    },
    {
     "name": "stdout",
     "output_type": "stream",
     "text": [
      "Saved: /home/ubuntu/Downloads/Data_Hematologic/Data_Gaydosik2019_Hematologic/Data_Gaydosik2019_Hematologic.h5ad\n",
      "\n",
      "Processing Data_Ledergor2018_Hematologic...\n"
     ]
    },
    {
     "name": "stderr",
     "output_type": "stream",
     "text": [
      "... storing 'sample' as categorical\n",
      "... storing 'cell_type' as categorical\n",
      "... storing 'cell_cycle_phase' as categorical\n",
      "... storing 'mp_top' as categorical\n",
      "... storing 'mp_assignment' as categorical\n",
      "... storing 'batch' as categorical\n",
      "... storing 'cluster' as categorical\n",
      "... storing 'cancer_type' as categorical\n",
      "... storing 'technology' as categorical\n"
     ]
    },
    {
     "name": "stdout",
     "output_type": "stream",
     "text": [
      "Saved: /home/ubuntu/Downloads/Data_Hematologic/Data_Ledergor2018_Hematologic/Data_Ledergor2018_Hematologic.h5ad\n",
      "\n",
      "Processing Data_Liu2021_Hematologic...\n"
     ]
    },
    {
     "name": "stderr",
     "output_type": "stream",
     "text": [
      "... storing 'sample' as categorical\n",
      "... storing 'cell_type' as categorical\n",
      "... storing 'cell_cycle_phase' as categorical\n",
      "... storing 'mp_top' as categorical\n",
      "... storing 'mp_assignment' as categorical\n",
      "... storing 'technology' as categorical\n",
      "... storing 'patient' as categorical\n",
      "... storing 'cancer_type' as categorical\n",
      "... storing 'diagnosis_recurrence' as categorical\n",
      "... storing 'AJCC_stage' as categorical\n",
      "... storing 'sample_primary_met' as categorical\n",
      "... storing 'size' as categorical\n",
      "... storing 'site' as categorical\n",
      "... storing 'histology' as categorical\n",
      "... storing 'treated_naive' as categorical\n",
      "... storing 'chemotherapy_exposed' as categorical\n",
      "... storing 'chemotherapy_response' as categorical\n",
      "... storing 'targeted_rx_exposed' as categorical\n",
      "... storing 'targeted_rx_response' as categorical\n",
      "... storing 'ICB_exposed' as categorical\n",
      "... storing 'ICB_response' as categorical\n",
      "... storing 'ET_exposed' as categorical\n",
      "... storing 'ET_response' as categorical\n"
     ]
    },
    {
     "name": "stdout",
     "output_type": "stream",
     "text": [
      "Saved: /home/ubuntu/Downloads/Data_Hematologic/Data_Liu2021_Hematologic/Data_Liu2021_Hematologic.h5ad\n",
      "\n",
      "Processing Data_Rendeiro2020_Hematologic...\n"
     ]
    },
    {
     "name": "stderr",
     "output_type": "stream",
     "text": [
      "... storing 'sample' as categorical\n",
      "... storing 'patient_x' as categorical\n",
      "... storing 'timepoint_x' as categorical\n",
      "... storing 'cell_type' as categorical\n",
      "... storing 'patient_y' as categorical\n",
      "... storing 'timepoint_y' as categorical\n",
      "... storing 'technology' as categorical\n",
      "... storing 'cancer_type' as categorical\n",
      "... storing 'sample_type' as categorical\n",
      "... storing 'source' as categorical\n",
      "... storing 'sex' as categorical\n",
      "... storing 'prior_treatment' as categorical\n",
      "... storing 'on_treatment' as categorical\n",
      "... storing 'response' as categorical\n",
      "... storing 'cytogenetics_pre_ibrutinib' as categorical\n",
      "... storing 'p53_mutation' as categorical\n",
      "... storing 'time_diagnosis_to_ibrutinib' as categorical\n"
     ]
    },
    {
     "name": "stdout",
     "output_type": "stream",
     "text": [
      "Saved: /home/ubuntu/Downloads/Data_Hematologic/Data_Rendeiro2020_Hematologic/Data_Rendeiro2020_Hematologic.h5ad\n",
      "\n",
      "Processing Data_Riether2020_Hematologic...\n"
     ]
    },
    {
     "name": "stderr",
     "output_type": "stream",
     "text": [
      "... storing 'sample' as categorical\n",
      "... storing 'patient_x' as categorical\n",
      "... storing 'timepoint_x' as categorical\n",
      "... storing 'cell_type' as categorical\n",
      "... storing 'patient_y' as categorical\n",
      "... storing 'timepoint_y' as categorical\n",
      "... storing 'treatment' as categorical\n",
      "... storing 'technology' as categorical\n",
      "... storing 'cancer_type' as categorical\n",
      "... storing 'sample_type' as categorical\n",
      "... storing 'sex' as categorical\n",
      "... storing 'cytogenetics' as categorical\n",
      "... storing 'mutations' as categorical\n",
      "... storing 'immunophenotype' as categorical\n"
     ]
    },
    {
     "name": "stdout",
     "output_type": "stream",
     "text": [
      "Saved: /home/ubuntu/Downloads/Data_Hematologic/Data_Riether2020_Hematologic/Data_Riether2020_Hematologic.h5ad\n",
      "\n",
      "Processing Data_Roider2020_Hematologic...\n"
     ]
    },
    {
     "name": "stderr",
     "output_type": "stream",
     "text": [
      "/tmp/ipykernel_802109/3426777797.py:36: DtypeWarning: Columns (14) have mixed types. Specify dtype option on import or set low_memory=False.\n",
      "  cells_df = pd.read_csv(os.path.join(base_path, \"Cells.csv\"), index_col=0)\n",
      "... storing 'sample' as categorical\n",
      "... storing 'cell_type' as categorical\n",
      "... storing 'cell_subtype' as categorical\n",
      "... storing 'cell_cycle_phase' as categorical\n",
      "... storing 'mp_top' as categorical\n",
      "... storing 'mp_assignment' as categorical\n",
      "... storing 'disease' as categorical\n",
      "... storing 'disease_subtype_x' as categorical\n",
      "... storing 'source_x' as categorical\n",
      "... storing 'cancer_type' as categorical\n",
      "... storing 'technology' as categorical\n",
      "... storing 'disease_subtype_y' as categorical\n",
      "... storing 'source_y' as categorical\n",
      "... storing 'histology' as categorical\n"
     ]
    },
    {
     "name": "stdout",
     "output_type": "stream",
     "text": [
      "Saved: /home/ubuntu/Downloads/Data_Hematologic/Data_Roider2020_Hematologic/Data_Roider2020_Hematologic.h5ad\n",
      "\n",
      "Processing Data_Steen2021_Hematologic...\n"
     ]
    },
    {
     "name": "stderr",
     "output_type": "stream",
     "text": [
      "... storing 'sample' as categorical\n",
      "... storing 'patient_x' as categorical\n",
      "... storing 'cell_type' as categorical\n",
      "... storing 'cell_subtype' as categorical\n",
      "... storing 'cell_cycle_phase' as categorical\n",
      "... storing 'mp_top' as categorical\n",
      "... storing 'mp_assignment' as categorical\n",
      "... storing 'disease' as categorical\n",
      "... storing 'disease_subtype_x' as categorical\n",
      "... storing 'cancer_type' as categorical\n",
      "... storing 'technology' as categorical\n",
      "... storing 'patient_y' as categorical\n",
      "... storing 'disease_subtype_y' as categorical\n"
     ]
    },
    {
     "name": "stdout",
     "output_type": "stream",
     "text": [
      "Saved: /home/ubuntu/Downloads/Data_Hematologic/Data_Steen2021_Hematologic/Data_Steen2021_Hematologic.h5ad\n",
      "\n",
      "Processing Data_Zhang2019_Hematologic...\n"
     ]
    },
    {
     "name": "stderr",
     "output_type": "stream",
     "text": [
      "... storing 'sample' as categorical\n",
      "... storing 'patient_x' as categorical\n",
      "... storing 'cell_type' as categorical\n",
      "... storing 'cell_subtype' as categorical\n",
      "... storing 'cell_cycle_phase' as categorical\n",
      "... storing 'mp_top' as categorical\n",
      "... storing 'mp_assignment' as categorical\n",
      "... storing 'progression_status_x' as categorical\n",
      "... storing 'cancer_type' as categorical\n",
      "... storing 'technology' as categorical\n",
      "... storing 'patient_y' as categorical\n",
      "... storing 'progression_status_y' as categorical\n"
     ]
    },
    {
     "name": "stdout",
     "output_type": "stream",
     "text": [
      "Saved: /home/ubuntu/Downloads/Data_Hematologic/Data_Zhang2019_Hematologic/Data_Zhang2019_Hematologic.h5ad\n"
     ]
    }
   ],
   "source": [
    "import os\n",
    "import pandas as pd\n",
    "import scanpy as sc\n",
    "from scipy.io import mmread\n",
    "\n",
    "# List of dataset folder names\n",
    "dataset_folders = [\n",
    "    \"Data_Caron2020_Hematologic\",\n",
    "    \"Data_Cohen2021_Hematologic\",\n",
    "    \"Data_Galen2019_Hematologic\",\n",
    "    \"Data_Gaydosik2019_Hematologic\",\n",
    "    \"Data_Ledergor2018_Hematologic\",\n",
    "    \"Data_Liu2021_Hematologic\",\n",
    "    \"Data_Rendeiro2020_Hematologic\",\n",
    "    \"Data_Riether2020_Hematologic\",\n",
    "    \"Data_Roider2020_Hematologic\",\n",
    "    \"Data_Steen2021_Hematologic\",\n",
    "    \"Data_Zhang2019_Hematologic\"\n",
    "]\n",
    "\n",
    "# Base directory containing all datasets\n",
    "base_dir = \"/home/ubuntu/Downloads/Data_Hematologic\"\n",
    "\n",
    "for folder in dataset_folders:\n",
    "    try:\n",
    "        print(f\"\\nProcessing {folder}...\")\n",
    "        base_path = os.path.join(base_dir, folder)\n",
    "\n",
    "        # Load expression matrix and transpose it\n",
    "        X = mmread(os.path.join(base_path, \"Exp_data_UMIcounts.mtx\")).T.tocsr()\n",
    "\n",
    "        # Load gene names\n",
    "        genes = pd.read_csv(os.path.join(base_path, \"Genes.txt\"), header=None)[0].tolist()\n",
    "\n",
    "        # Load cell metadata\n",
    "        cells_df = pd.read_csv(os.path.join(base_path, \"Cells.csv\"), index_col=0)\n",
    "\n",
    "        # Load sample metadata\n",
    "        samples_df = pd.read_csv(os.path.join(base_path, \"Samples.csv\"))\n",
    "\n",
    "        # Create AnnData object\n",
    "        adata = sc.AnnData(X)\n",
    "        adata.var_names = genes\n",
    "        adata.obs = cells_df\n",
    "\n",
    "        # Merge sample-level metadata using the 'sample' column\n",
    "        adata.obs = adata.obs.merge(samples_df, how=\"left\", on=\"sample\")\n",
    "\n",
    "        # Save to .h5ad file\n",
    "        output_path = os.path.join(base_path, f\"{folder}.h5ad\")\n",
    "        adata.write(output_path)\n",
    "        print(f\"Saved: {output_path}\")\n",
    "\n",
    "    except Exception as e:\n",
    "        print(f\"❌ Error processing {folder}: {e}\")\n"
   ]
  },
  {
   "cell_type": "code",
   "execution_count": 45,
   "id": "90b94848-1f09-4c4d-a3bc-902930a5544a",
   "metadata": {},
   "outputs": [
    {
     "name": "stdout",
     "output_type": "stream",
     "text": [
      "\n",
      "Processing Data_Gaiti2019_Hematologic...\n"
     ]
    },
    {
     "name": "stderr",
     "output_type": "stream",
     "text": [
      "... storing 'sample' as categorical\n",
      "... storing 'patient_x' as categorical\n",
      "... storing 'cell_cycle_phase' as categorical\n",
      "... storing 'sample_status' as categorical\n",
      "... storing 'patient_y' as categorical\n",
      "... storing 'technology' as categorical\n",
      "... storing 'cancer_type' as categorical\n",
      "... storing 'site' as categorical\n",
      "... storing 'histology' as categorical\n",
      "... storing 'genetic_hormonal_features' as categorical\n",
      "... storing 'treated_naive' as categorical\n",
      "... storing 'chemotherapy_exposed' as categorical\n",
      "... storing 'chemotherapy_response' as categorical\n",
      "... storing 'targeted_rx_exposed' as categorical\n",
      "... storing 'ICB_exposed' as categorical\n",
      "... storing 'ICB_response' as categorical\n",
      "... storing 'ET_exposed' as categorical\n",
      "... storing 'ET_response' as categorical\n"
     ]
    },
    {
     "name": "stdout",
     "output_type": "stream",
     "text": [
      "Saved: /home/ubuntu/Downloads/Data_Hematologic/Data_Gaiti2019_Hematologic/Data_Gaiti2019_Hematologic.h5ad\n",
      "\n",
      "Processing Data_Giustacchini2017_Hematologic...\n"
     ]
    },
    {
     "name": "stderr",
     "output_type": "stream",
     "text": [
      "... storing 'sample' as categorical\n",
      "... storing 'cell_type' as categorical\n",
      "... storing 'cell_cycle_phase' as categorical\n",
      "... storing 'mp_top' as categorical\n",
      "... storing 'mp_assignment' as categorical\n",
      "... storing 'batch' as categorical\n",
      "... storing 'bcr_abl_status' as categorical\n",
      "... storing 'stage_1' as categorical\n",
      "... storing 'stage_2' as categorical\n",
      "... storing 'responder_status' as categorical\n",
      "... storing 'technology' as categorical\n",
      "... storing 'patient' as categorical\n",
      "... storing 'cancer_type' as categorical\n",
      "... storing 'diagnosis_recurrence' as categorical\n",
      "... storing 'disease_extent' as categorical\n",
      "... storing 'sample_primary_met' as categorical\n",
      "... storing 'site' as categorical\n",
      "... storing 'genetic_hormonal_features' as categorical\n",
      "... storing 'treated_naive' as categorical\n",
      "... storing 'targeted_rx_exposed' as categorical\n",
      "... storing 'targeted_rx_response' as categorical\n"
     ]
    },
    {
     "name": "stdout",
     "output_type": "stream",
     "text": [
      "Saved: /home/ubuntu/Downloads/Data_Hematologic/Data_Giustacchini2017_Hematologic/Data_Giustacchini2017_Hematologic.h5ad\n"
     ]
    }
   ],
   "source": [
    "import os\n",
    "import pandas as pd\n",
    "import scanpy as sc\n",
    "from scipy.io import mmread\n",
    "\n",
    "# List of datasets that use TPM expression data\n",
    "tpm_datasets = [\n",
    "    \"Data_Gaiti2019_Hematologic\",\n",
    "    \"Data_Giustacchini2017_Hematologic\"\n",
    "]\n",
    "\n",
    "# Base directory containing all datasets\n",
    "base_dir = \"/home/ubuntu/Downloads/Data_Hematologic\"\n",
    "\n",
    "for folder in tpm_datasets:\n",
    "    try:\n",
    "        print(f\"\\nProcessing {folder}...\")\n",
    "        base_path = os.path.join(base_dir, folder)\n",
    "\n",
    "        # Load TPM matrix and transpose it\n",
    "        X = mmread(os.path.join(base_path, \"Exp_data_TPM.mtx\")).T.tocsr()\n",
    "\n",
    "        # Load gene names\n",
    "        genes = pd.read_csv(os.path.join(base_path, \"Genes.txt\"), header=None)[0].tolist()\n",
    "\n",
    "        # Load cell metadata\n",
    "        cells_df = pd.read_csv(os.path.join(base_path, \"Cells.csv\"), index_col=0)\n",
    "\n",
    "        # Load sample metadata\n",
    "        samples_df = pd.read_csv(os.path.join(base_path, \"Samples.csv\"))\n",
    "\n",
    "        # Create AnnData object\n",
    "        adata = sc.AnnData(X)\n",
    "        adata.var_names = genes\n",
    "        adata.obs = cells_df\n",
    "\n",
    "        # Merge sample-level metadata using the 'sample' column\n",
    "        adata.obs = adata.obs.merge(samples_df, how=\"left\", on=\"sample\")\n",
    "\n",
    "        # Save to .h5ad file\n",
    "        output_path = os.path.join(base_path, f\"{folder}.h5ad\")\n",
    "        adata.write(output_path)\n",
    "        print(f\"Saved: {output_path}\")\n",
    "\n",
    "    except Exception as e:\n",
    "        print(f\"❌ Error processing {folder}: {e}\")\n"
   ]
  },
  {
   "cell_type": "code",
   "execution_count": 78,
   "id": "52d2f9a7-112f-4429-960a-7a0837fb5115",
   "metadata": {},
   "outputs": [
    {
     "name": "stdout",
     "output_type": "stream",
     "text": [
      "Number of common genes: 30316\n",
      "Group 1 shape after filtering: (14894, 30316)\n",
      "Group 2 shape after filtering: (16809, 30316)\n"
     ]
    }
   ],
   "source": [
    "import scanpy as sc\n",
    "import numpy as np\n",
    "\n",
    "# Step 1: Ensure unique gene names\n",
    "adata_group1.var_names_make_unique()\n",
    "adata_group2.var_names_make_unique()\n",
    "\n",
    "# Step 2: Find common genes between both datasets\n",
    "common_genes = sorted(set(adata_group1.var_names).intersection(adata_group2.var_names))\n",
    "print(f\"Number of common genes: {len(common_genes)}\")\n",
    "\n",
    "# Step 3: Subset both datasets to common genes\n",
    "adata_group1 = adata_group1[:, common_genes].copy()\n",
    "adata_group2 = adata_group2[:, common_genes].copy()\n",
    "\n",
    "# Optional: check shapes\n",
    "print(f\"Group 1 shape after filtering: {adata_group1.shape}\")\n",
    "print(f\"Group 2 shape after filtering: {adata_group2.shape}\")\n",
    "\n",
    "# Step 4: Concatenate (if needed)\n",
    "# adata_combined = adata_group1.concatenate(adata_group2, batch_key=\"group\", batch_categories=[\"group1\", \"group2\"])\n"
   ]
  },
  {
   "cell_type": "code",
   "execution_count": 79,
   "id": "9e7a4866-5604-4f51-9ada-bb7edbed975c",
   "metadata": {},
   "outputs": [
    {
     "name": "stdout",
     "output_type": "stream",
     "text": [
      "AnnData object with n_obs × n_vars = 31703 × 30316\n",
      "    obs: 'sample', 'cell_type', 'complexity', 'umap1', 'umap2', 'g1s_score', 'g2m_score', 'cell_cycle_phase', 'mp_top_score', 'mp_top', 'mp_assignment', 'genotype', 'technology', 'n_cells', 'patient', 'cancer_type', 'sex', 'age', 'smoking_status', 'PY', 'diagnosis_recurrence', 'disease_extent', 'AJCC_T', 'AJCC_N', 'AJCC_M', 'AJCC_stage', 'sample_primary_met', 'size', 'site', 'histology', 'genetic_hormonal_features', 'grade', 'KI67', 'treated_naive', 'chemotherapy_exposed', 'chemotherapy_response', 'targeted_rx_exposed', 'targeted_rx_response', 'ICB_exposed', 'ICB_response', 'ET_exposed', 'ET_response', 'time_end_of_rx_to_sampling', 'post_sampling_rx_exposed', 'post_sampling_rx_response', 'PFS_DFS', 'OS', 'group'\n",
      "group\n",
      "group2    16809\n",
      "group1    14894\n",
      "Name: count, dtype: int64\n"
     ]
    }
   ],
   "source": [
    "# Concatenate with group labels\n",
    "adata_combined = adata_group1.concatenate(\n",
    "    adata_group2,\n",
    "    batch_key=\"group\",  # Column name in .obs indicating origin\n",
    "    batch_categories=[\"group1\", \"group2\"]\n",
    ")\n",
    "\n",
    "# Optional: inspect combined data\n",
    "print(adata_combined)\n",
    "print(adata_combined.obs[\"group\"].value_counts())\n"
   ]
  },
  {
   "cell_type": "code",
   "execution_count": 85,
   "id": "14d9ffdc-f8e3-44f9-830d-86e901a28cfc",
   "metadata": {},
   "outputs": [],
   "source": [
    "# Save the combined dataset to an HDF5 file\n",
    "adata_combined.write(\"Data_Nam2019_Hematologic.h5ad\")\n"
   ]
  }
 ],
 "metadata": {
  "kernelspec": {
   "display_name": "Python 3 (ipykernel)",
   "language": "python",
   "name": "python3"
  },
  "language_info": {
   "codemirror_mode": {
    "name": "ipython",
    "version": 3
   },
   "file_extension": ".py",
   "mimetype": "text/x-python",
   "name": "python",
   "nbconvert_exporter": "python",
   "pygments_lexer": "ipython3",
   "version": "3.10.12"
  }
 },
 "nbformat": 4,
 "nbformat_minor": 5
}
